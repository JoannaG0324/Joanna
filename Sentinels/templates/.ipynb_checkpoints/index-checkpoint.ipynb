{
 "cells": [
  {
   "cell_type": "code",
   "execution_count": null,
   "id": "6da2647f",
   "metadata": {},
   "outputs": [],
   "source": [
    "<!DOCTYPE html>\n",
    "<html lang=\"en\">\n",
    "<head>\n",
    "    <meta charset=\"UTF-8\">\n",
    "    <meta name=\"viewport\" content=\"width=device-width, initial-scale=1.0\">\n",
    "    <title>Industry Score Percentage Analysis</title>\n",
    "    <script src=\"https://cdn.plot.ly/plotly-latest.min.js\"></script>\n",
    "</head>\n",
    "<body>\n",
    "    <h1>Industry Score Percentage Analysis</h1>\n",
    "    <div>\n",
    "        <h2>Heatmap</h2>\n",
    "        <div>{{ graph_html | safe }}</div>\n",
    "    </div>\n",
    "\n",
    "    <h2>Data Table</h2>\n",
    "    <table border=\"1\">\n",
    "        <thead>\n",
    "            <tr>\n",
    "                <th>Date</th>\n",
    "                <th>Industry Level 1 Name</th>\n",
    "                <th>Industry Score</th>\n",
    "                <th>Industry Score Sum</th>\n",
    "                <th>Industry Score %</th>\n",
    "            </tr>\n",
    "        </thead>\n",
    "        <tbody>\n",
    "            {% for row in data %}\n",
    "            <tr>\n",
    "                <td>{{ row.date }}</td>\n",
    "                <td>{{ row.industry_level_1_name }}</td>\n",
    "                <td>{{ row.industry_score }}</td>\n",
    "                <td>{{ row.industry_score_sum }}</td>\n",
    "                <td>{{ row.industry_score_pct }}</td>\n",
    "            </tr>\n",
    "            {% endfor %}\n",
    "        </tbody>\n",
    "    </table>\n",
    "\n",
    "    <div>\n",
    "        <h3>Pagination</h3>\n",
    "        <p>Total Pages: {{ total_pages }}</p>\n",
    "        <div>\n",
    "            {% if current_page > 1 %}\n",
    "                <a href=\"?page={{ current_page - 1 }}\">Previous</a>\n",
    "            {% endif %}\n",
    "            <span> Page {{ current_page }} </span>\n",
    "            {% if current_page < total_pages %}\n",
    "                <a href=\"?page={{ current_page + 1 }}\">Next</a>\n",
    "            {% endif %}\n",
    "        </div>\n",
    "    </div>\n",
    "</body>\n",
    "</html>\n"
   ]
  }
 ],
 "metadata": {
  "kernelspec": {
   "display_name": "Python 3 (ipykernel)",
   "language": "python",
   "name": "python3"
  },
  "language_info": {
   "codemirror_mode": {
    "name": "ipython",
    "version": 3
   },
   "file_extension": ".py",
   "mimetype": "text/x-python",
   "name": "python",
   "nbconvert_exporter": "python",
   "pygments_lexer": "ipython3",
   "version": "3.9.7"
  }
 },
 "nbformat": 4,
 "nbformat_minor": 5
}
